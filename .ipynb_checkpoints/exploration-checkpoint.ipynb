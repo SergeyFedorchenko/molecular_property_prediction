{
 "cells": [
  {
   "cell_type": "code",
   "execution_count": 10,
   "metadata": {},
   "outputs": [],
   "source": [
    "import numpy as np\n",
    "from sklearn.decomposition import PCA\n",
    "import matplotlib.pyplot as plt\n",
    "from sklearn.preprocessing import normalize\n",
    "from rf_utils import FPDataLoader, area_under_prc\n",
    "import pandas as pd\n",
    "\n",
    "from sklearn.metrics import roc_auc_score\n",
    "from sklearn.ensemble import RandomForestClassifier\n",
    "from sklearn.metrics import accuracy_score\n",
    "from sklearn.model_selection import RandomizedSearchCV, train_test_split, GridSearchCV\n",
    "from sklearn.metrics import classification_report\n"
   ]
  },
  {
   "cell_type": "code",
   "execution_count": 2,
   "metadata": {},
   "outputs": [
    {
     "name": "stderr",
     "output_type": "stream",
     "text": [
      "[11:45:17] WARNING: not removing hydrogen atom without neighbors\n",
      "[11:45:17] WARNING: not removing hydrogen atom without neighbors\n",
      "100%|██████████| 41127/41127 [00:03<00:00, 10701.88it/s]\n",
      "100%|██████████| 41127/41127 [00:35<00:00, 1150.67it/s]\n",
      "100%|██████████| 41127/41127 [00:46<00:00, 879.70it/s] \n",
      "/home/sergey/anaconda3/lib/python3.7/site-packages/numpy/lib/function_base.py:2691: RuntimeWarning: invalid value encountered in true_divide\n",
      "  c /= stddev[:, None]\n",
      "/home/sergey/anaconda3/lib/python3.7/site-packages/numpy/lib/function_base.py:2692: RuntimeWarning: invalid value encountered in true_divide\n",
      "  c /= stddev[None, :]\n",
      "100%|██████████| 10/10 [00:07<00:00,  1.27it/s]\n"
     ]
    }
   ],
   "source": [
    "data = pd.read_csv('data/HIV.csv')\n",
    "data_fp = FPDataLoader(data.smiles.values, data.HIV_active.values)\n",
    "data_fp.prepare_fps()\n",
    "data_fp.dump('data/HIV_preprocessed')"
   ]
  },
  {
   "cell_type": "code",
   "execution_count": 20,
   "metadata": {},
   "outputs": [
    {
     "name": "stderr",
     "output_type": "stream",
     "text": [
      "[12:05:08] WARNING: not removing hydrogen atom without neighbors\n",
      "[12:05:08] WARNING: not removing hydrogen atom without neighbors\n"
     ]
    }
   ],
   "source": [
    "data_fp = FPDataLoader()\n",
    "data_fp.pick('data/HIV_preprocessed')"
   ]
  },
  {
   "cell_type": "code",
   "execution_count": 21,
   "metadata": {},
   "outputs": [],
   "source": [
    "#split_dict = {'train_ind': train_set.indices, 'valid_ind': valid_set.indices, 'test_ind': test_set.indices}\n",
    "with open('split_indices', 'rb') as f:\n",
    "    split_dict = pickle.load(f)"
   ]
  },
  {
   "cell_type": "code",
   "execution_count": 31,
   "metadata": {
    "collapsed": false,
    "jupyter": {
     "outputs_hidden": false
    }
   },
   "outputs": [
    {
     "name": "stdout",
     "output_type": "stream",
     "text": [
      "              precision    recall  f1-score   support\n",
      "\n",
      "           0       0.98      0.99      0.99      3974\n",
      "           1       0.66      0.30      0.41       138\n",
      "\n",
      "    accuracy                           0.97      4112\n",
      "   macro avg       0.82      0.65      0.70      4112\n",
      "weighted avg       0.97      0.97      0.97      4112\n",
      "\n",
      "roc-auc 0.6459085505058241\n",
      "prc-auc 0.21239239860065418\n"
     ]
    }
   ],
   "source": [
    "train_ind, valid_ind, test_ind = split_dict['train_ind'], split_dict['valid_ind'], split_dict['test_ind']\n",
    "#best parameters were found by GridSearchCV using roc-auc metric\n",
    "rf = RandomForestClassifier(random_state=1141, max_features='sqrt', n_estimators=500,\n",
    "                            min_samples_split=2, )\n",
    "param_grid = {'max_depth': [None], 'min_samples_split': [2],\n",
    "              'max_leaf_nodes': [None], 'n_estimators': [500]}\n",
    "rf.fit(data_fp.fps[train_ind], data_fp.labels[train_ind])\n",
    "y_pred = rf.predict(data_fp.fps[valid_ind])\n",
    "print(classification_report(data_fp.labels[valid_ind], y_pred))\n",
    "print('roc-auc', roc_auc_score(data_fp.labels[valid_ind], y_pred))\n",
    "print('prc-auc', area_under_prc(data_fp.labels[valid_ind], y_pred))"
   ]
  },
  {
   "cell_type": "code",
   "execution_count": 2,
   "metadata": {},
   "outputs": [],
   "source": [
    "from graph_conv_utils import HIV_mols\n",
    "import os\n",
    "import pickle\n",
    "\n",
    "from torchdrug import data, utils\n",
    "from torchdrug.core import Registry as R\n",
    "from torchdrug import core, models, tasks, datasets\n",
    "import torch\n",
    "import json\n",
    "\n",
    "from collections import defaultdict\n",
    "import numpy as np\n",
    "\n",
    "from torch.utils import data as torch_data"
   ]
  },
  {
   "cell_type": "code",
   "execution_count": null,
   "metadata": {},
   "outputs": [],
   "source": [
    "%%capture\n",
    "#evaluate graph convolutional model\n",
    "\n",
    "with open(\"models/HIV_gin_model_wo_retrain.json\", \"r\") as fin:\n",
    "    config = json.load(fin)\n",
    "    config['gpus'] = None\n",
    "    solver = core.Configurable.load_config_dict(config)\n",
    "solver.load(\"models/HIV_gin_model_wo_retrain.pth\")"
   ]
  },
  {
   "cell_type": "code",
   "execution_count": 4,
   "metadata": {},
   "outputs": [
    {
     "name": "stdout",
     "output_type": "stream",
     "text": [
      "17:09:05   >>>>>>>>>>>>>>>>>>>>>>>>>>>>>>\n",
      "17:09:05   Evaluate on valid\n",
      "17:09:18   ------------------------------\n",
      "17:09:18   accuracy [HIV_active]: 0.96644\n",
      "17:09:18   auprc [HIV_active]: 0.202821\n",
      "17:09:18   auroc [HIV_active]: 0.725041\n",
      "17:09:18   >>>>>>>>>>>>>>>>>>>>>>>>>>>>>>\n",
      "17:09:18   Evaluate on test\n",
      "17:09:29   ------------------------------\n",
      "17:09:29   accuracy [HIV_active]: 0.970345\n",
      "17:09:29   auprc [HIV_active]: 0.287026\n",
      "17:09:29   auroc [HIV_active]: 0.747665\n",
      "\n"
     ]
    }
   ],
   "source": [
    "solver.evaluate(\"valid\")\n",
    "solver.evaluate(\"test\")\n",
    "print('')"
   ]
  },
  {
   "cell_type": "code",
   "execution_count": null,
   "metadata": {},
   "outputs": [],
   "source": [
    "%%capture\n",
    "#evaluate graph convolutional model with pretrain\n",
    "with open(\"models/HIV_gin_model.json\", \"r\") as fin:\n",
    "    config = json.load(fin)\n",
    "    config['gpus'] = None\n",
    "    solver = core.Configurable.load_config_dict(config)\n",
    "solver.load(\"models/HIV_gin_model.pth\")"
   ]
  },
  {
   "cell_type": "code",
   "execution_count": 7,
   "metadata": {},
   "outputs": [
    {
     "name": "stdout",
     "output_type": "stream",
     "text": [
      "17:14:27   >>>>>>>>>>>>>>>>>>>>>>>>>>>>>>\n",
      "17:14:27   Evaluate on valid\n",
      "17:14:38   ------------------------------\n",
      "17:14:38   accuracy [HIV_active]: 0.96644\n",
      "17:14:38   auprc [HIV_active]: 0.330238\n",
      "17:14:38   auroc [HIV_active]: 0.755691\n",
      "17:14:38   >>>>>>>>>>>>>>>>>>>>>>>>>>>>>>\n",
      "17:14:38   Evaluate on test\n",
      "17:14:50   ------------------------------\n",
      "17:14:50   accuracy [HIV_active]: 0.970345\n",
      "17:14:50   auprc [HIV_active]: 0.375858\n",
      "17:14:50   auroc [HIV_active]: 0.792228\n",
      "\n"
     ]
    }
   ],
   "source": [
    "solver.evaluate(\"valid\")\n",
    "solver.evaluate(\"test\")\n",
    "print('')"
   ]
  },
  {
   "cell_type": "code",
   "execution_count": null,
   "metadata": {},
   "outputs": [],
   "source": []
  },
  {
   "cell_type": "code",
   "execution_count": null,
   "metadata": {},
   "outputs": [],
   "source": []
  },
  {
   "cell_type": "code",
   "execution_count": null,
   "metadata": {},
   "outputs": [],
   "source": []
  }
 ],
 "metadata": {
  "kernelspec": {
   "display_name": "Python 3",
   "language": "python",
   "name": "python3"
  },
  "language_info": {
   "codemirror_mode": {
    "name": "ipython",
    "version": 3
   },
   "file_extension": ".py",
   "mimetype": "text/x-python",
   "name": "python",
   "nbconvert_exporter": "python",
   "pygments_lexer": "ipython3",
   "version": "3.7.4"
  }
 },
 "nbformat": 4,
 "nbformat_minor": 4
}
